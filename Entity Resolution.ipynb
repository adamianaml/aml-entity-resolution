{
 "cells": [
  {
   "cell_type": "code",
   "execution_count": null,
   "metadata": {
    "collapsed": false
   },
   "outputs": [],
   "source": [
    "import pandas as pd\n",
    "import numpy as np\n",
    "\n",
    "from sklearn.cross_validation import train_test_split\n",
    "from sklearn.ensemble import RandomForestClassifier"
   ]
  },
  {
   "cell_type": "code",
   "execution_count": null,
   "metadata": {
    "collapsed": false
   },
   "outputs": [],
   "source": [
    "ama = pd.read_csv('./data/amazon.csv')\n",
    "rt = pd.read_csv('./data/rotten_tomatoes.csv')\n",
    "\n",
    "holdout = pd.read_csv('./data/holdout.csv')\n",
    "test = pd.read_csv('./data/test.csv')\n",
    "train = pd.read_csv('./data/train.csv')"
   ]
  },
  {
   "cell_type": "code",
   "execution_count": null,
   "metadata": {
    "collapsed": false
   },
   "outputs": [],
   "source": [
    "ama.head()\n",
    "a = pd.DataFrame(ama[ama['id'] == 4])\n",
    "ama.columns = [\n",
    "    'id_left',\n",
    "    'time_left',\n",
    "    'director_left',\n",
    "    'star_left',\n",
    "    'cost_left'\n",
    "]"
   ]
  },
  {
   "cell_type": "code",
   "execution_count": null,
   "metadata": {
    "collapsed": false,
    "scrolled": true
   },
   "outputs": [],
   "source": [
    "b = pd.DataFrame(rt[rt['id'] == 3668])\n",
    "rt.columns = [\n",
    "    'id_right',\n",
    "    'time_right',\n",
    "    'director_right',\n",
    "    'year_right',\n",
    "    'star1_right',\n",
    "    'star2_right',\n",
    "    'star3_right',\n",
    "    'star4_right',\n",
    "    'star5_right',\n",
    "    'star6_right',\n",
    "    'rotten_tomatoes_right',\n",
    "    'audience_rating_right',\n",
    "    'review1_right',\n",
    "    'review2_right',\n",
    "    'review3_right',\n",
    "    'review4_right',\n",
    "    'review5_right'\n",
    "]"
   ]
  },
  {
   "cell_type": "code",
   "execution_count": null,
   "metadata": {
    "collapsed": false
   },
   "outputs": [],
   "source": [
    "new_data = pd.DataFrame(dtype=str)"
   ]
  },
  {
   "cell_type": "code",
   "execution_count": null,
   "metadata": {
    "collapsed": false,
    "scrolled": false
   },
   "outputs": [],
   "source": [
    "# Merge records from ama and rt\n",
    "for index, row in train.iterrows():\n",
    "    amarow = ama[ama['id_left'] == row['id1']]\n",
    "    rtrow = rt[rt['id_right'] == row['id 2']]\n",
    "    gold = pd.DataFrame(data={'gold': [row['gold']]})\n",
    "    \n",
    "    amarow.reset_index(drop=True, inplace=True)\n",
    "    rtrow.reset_index(drop=True, inplace=True)\n",
    "    \n",
    "    new_row = pd.concat([amarow, rtrow, gold], axis=1)\n",
    "    new_data = pd.concat([new_data, new_row])"
   ]
  },
  {
   "cell_type": "code",
   "execution_count": null,
   "metadata": {
    "collapsed": false,
    "scrolled": false
   },
   "outputs": [],
   "source": [
    "# Same director column\n",
    "new_data['directors_same'] = (new_data['director_left'] == new_data['director_right']).astype(int)\n",
    "\n",
    "# Split actors into unique columns\n",
    "actors_split = new_data['star_left'].str.split(',', expand=True)\n",
    "actors_split_columns = ['star_' + str(i) for i in range(len(actors_split.columns))]\n",
    "actors_split.columns = actors_split_columns\n",
    "new_data = pd.concat([new_data, actors_split], axis=1)\n",
    "\n",
    "star_columns = [\n",
    "    'star1_right',\n",
    "    'star2_right',\n",
    "    'star3_right',\n",
    "    'star4_right',\n",
    "    'star5_right',\n",
    "    'star6_right',\n",
    "]\n",
    "\n",
    "# Compute common actor count column\n",
    "new_data['common_actor_count'] = pd.Series()\n",
    "\n",
    "for i, row in new_data.iterrows():\n",
    "    actors_left = set(row[actors_split_columns])\n",
    "    actors_left.discard(None)\n",
    "    actors_right = set(row[star_columns])\n",
    "    actors_right.discard(None)\n",
    "    \n",
    "    new_data.iloc[i, new_data.columns.get_loc('common_actor_count')] = len(actors_left.intersection(actors_right))\n",
    "#     print(new_data.iloc[i, new_data.columns.get_loc('common_actor_count')])"
   ]
  },
  {
   "cell_type": "code",
   "execution_count": null,
   "metadata": {
    "collapsed": false,
    "scrolled": true
   },
   "outputs": [],
   "source": [
    "pd.options.display.max_columns = 999\n",
    "new_data['common_actor_count']"
   ]
  },
  {
   "cell_type": "code",
   "execution_count": null,
   "metadata": {
    "collapsed": true
   },
   "outputs": [],
   "source": [
    "features = []\n",
    "\n",
    "for i, row in train.iterrows():\n",
    "    a = ama[ama['id_left'] == row['id1']]\n",
    "    b = rtrow[rtrow['id_right'] == row['id 2']]\n",
    "    features.append()\n",
    "\n",
    "[ 1 for i, row in train.iterrows() if ama[ama['id_left'] == row['id1'] == rtrow[rtrow['id_right'] == row['id 2']] else 0 ]"
   ]
  },
  {
   "cell_type": "code",
   "execution_count": null,
   "metadata": {
    "collapsed": false,
    "scrolled": false
   },
   "outputs": [],
   "source": [
    "clf = RandomForestClassifier()\n",
    "x_train, x_test, y_train, y_test = train_test_split(new_data.ix[:, new_data.columns != 'gold'], new_data.iloc[:,-1])\n",
    "clf.fit(x_train, y_train)\n",
    "clf.score(x_test, y_test)"
   ]
  },
  {
   "cell_type": "code",
   "execution_count": null,
   "metadata": {
    "collapsed": true
   },
   "outputs": [],
   "source": []
  }
 ],
 "metadata": {
  "kernelspec": {
   "display_name": "Python 2",
   "language": "python",
   "name": "python2"
  },
  "language_info": {
   "codemirror_mode": {
    "name": "ipython",
    "version": 2
   },
   "file_extension": ".py",
   "mimetype": "text/x-python",
   "name": "python",
   "nbconvert_exporter": "python",
   "pygments_lexer": "ipython2",
   "version": "2.7.10"
  }
 },
 "nbformat": 4,
 "nbformat_minor": 2
}
